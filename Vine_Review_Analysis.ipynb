{
  "nbformat": 4,
  "nbformat_minor": 0,
  "metadata": {
    "colab": {
      "name": "Vine_Review_Analysis.ipynb",
      "provenance": [],
      "collapsed_sections": []
    },
    "kernelspec": {
      "name": "python3",
      "display_name": "Python 3"
    },
    "language_info": {
      "name": "python"
    }
  },
  "cells": [
    {
      "cell_type": "code",
      "execution_count": 1,
      "metadata": {
        "colab": {
          "base_uri": "https://localhost:8080/"
        },
        "id": "U0BzG2h2w_f4",
        "outputId": "704f9f98-a5de-4f61-c3ae-6f132686377b"
      },
      "outputs": [
        {
          "output_type": "stream",
          "name": "stdout",
          "text": [
            "Get:1 https://cloud.r-project.org/bin/linux/ubuntu bionic-cran40/ InRelease [3,626 B]\n",
            "Ign:2 https://developer.download.nvidia.com/compute/cuda/repos/ubuntu1804/x86_64  InRelease\n",
            "Get:3 http://ppa.launchpad.net/c2d4u.team/c2d4u4.0+/ubuntu bionic InRelease [15.9 kB]\n",
            "Get:4 http://security.ubuntu.com/ubuntu bionic-security InRelease [88.7 kB]\n",
            "Ign:5 https://developer.download.nvidia.com/compute/machine-learning/repos/ubuntu1804/x86_64  InRelease\n",
            "Get:6 https://developer.download.nvidia.com/compute/cuda/repos/ubuntu1804/x86_64  Release [696 B]\n",
            "Hit:7 http://archive.ubuntu.com/ubuntu bionic InRelease\n",
            "Hit:8 https://developer.download.nvidia.com/compute/machine-learning/repos/ubuntu1804/x86_64  Release\n",
            "Get:9 https://developer.download.nvidia.com/compute/cuda/repos/ubuntu1804/x86_64  Release.gpg [836 B]\n",
            "Get:10 http://archive.ubuntu.com/ubuntu bionic-updates InRelease [88.7 kB]\n",
            "Hit:11 http://ppa.launchpad.net/cran/libgit2/ubuntu bionic InRelease\n",
            "Get:12 http://ppa.launchpad.net/deadsnakes/ppa/ubuntu bionic InRelease [15.9 kB]\n",
            "Get:13 http://archive.ubuntu.com/ubuntu bionic-backports InRelease [74.6 kB]\n",
            "Get:14 http://ppa.launchpad.net/graphics-drivers/ppa/ubuntu bionic InRelease [21.3 kB]\n",
            "Get:16 https://developer.download.nvidia.com/compute/cuda/repos/ubuntu1804/x86_64  Packages [917 kB]\n",
            "Get:17 http://ppa.launchpad.net/c2d4u.team/c2d4u4.0+/ubuntu bionic/main Sources [1,826 kB]\n",
            "Get:18 http://security.ubuntu.com/ubuntu bionic-security/restricted amd64 Packages [783 kB]\n",
            "Get:19 http://ppa.launchpad.net/c2d4u.team/c2d4u4.0+/ubuntu bionic/main amd64 Packages [936 kB]\n",
            "Get:20 http://security.ubuntu.com/ubuntu bionic-security/multiverse amd64 Packages [21.1 kB]\n",
            "Get:21 http://security.ubuntu.com/ubuntu bionic-security/universe amd64 Packages [1,470 kB]\n",
            "Get:22 http://security.ubuntu.com/ubuntu bionic-security/main amd64 Packages [2,564 kB]\n",
            "Get:23 http://archive.ubuntu.com/ubuntu bionic-updates/restricted amd64 Packages [816 kB]\n",
            "Get:24 http://archive.ubuntu.com/ubuntu bionic-updates/universe amd64 Packages [2,248 kB]\n",
            "Get:25 http://ppa.launchpad.net/deadsnakes/ppa/ubuntu bionic/main amd64 Packages [45.3 kB]\n",
            "Get:26 http://archive.ubuntu.com/ubuntu bionic-updates/main amd64 Packages [3,004 kB]\n",
            "Get:27 http://archive.ubuntu.com/ubuntu bionic-updates/multiverse amd64 Packages [29.0 kB]\n",
            "Get:28 http://ppa.launchpad.net/graphics-drivers/ppa/ubuntu bionic/main amd64 Packages [42.8 kB]\n",
            "Fetched 15.0 MB in 6s (2,337 kB/s)\n",
            "Reading package lists... Done\n"
          ]
        }
      ],
      "source": [
        "import os\n",
        "# Find the latest version of spark 3.0 from http://www.apache.org/dist/spark/ and enter as the spark version\n",
        "# For example:\n",
        "# spark_version = 'spark-3.0.3'\n",
        "spark_version = 'spark-3.0.3'\n",
        "os.environ['SPARK_VERSION']=spark_version\n",
        "\n",
        "# Install Spark and Java\n",
        "!apt-get update\n",
        "!apt-get install openjdk-11-jdk-headless -qq > /dev/null\n",
        "!wget -q http://www.apache.org/dist/spark/$SPARK_VERSION/$SPARK_VERSION-bin-hadoop2.7.tgz\n",
        "!tar xf $SPARK_VERSION-bin-hadoop2.7.tgz\n",
        "!pip install -q findspark\n",
        "\n",
        "# Set Environment Variables\n",
        "import os\n",
        "os.environ[\"JAVA_HOME\"] = \"/usr/lib/jvm/java-11-openjdk-amd64\"\n",
        "os.environ[\"SPARK_HOME\"] = f\"/content/{spark_version}-bin-hadoop2.7\"\n",
        "\n",
        "# Start a SparkSession\n",
        "import findspark\n",
        "findspark.init()"
      ]
    },
    {
      "cell_type": "code",
      "source": [
        "!pip install pyspark"
      ],
      "metadata": {
        "colab": {
          "base_uri": "https://localhost:8080/"
        },
        "id": "OeJ9thqvxKl8",
        "outputId": "0bb70bb3-93a2-4362-bccb-c559a025a597"
      },
      "execution_count": 2,
      "outputs": [
        {
          "output_type": "stream",
          "name": "stdout",
          "text": [
            "Collecting pyspark\n",
            "  Downloading pyspark-3.2.1.tar.gz (281.4 MB)\n",
            "\u001b[K     |████████████████████████████████| 281.4 MB 36 kB/s \n",
            "\u001b[?25hCollecting py4j==0.10.9.3\n",
            "  Downloading py4j-0.10.9.3-py2.py3-none-any.whl (198 kB)\n",
            "\u001b[K     |████████████████████████████████| 198 kB 52.7 MB/s \n",
            "\u001b[?25hBuilding wheels for collected packages: pyspark\n",
            "  Building wheel for pyspark (setup.py) ... \u001b[?25l\u001b[?25hdone\n",
            "  Created wheel for pyspark: filename=pyspark-3.2.1-py2.py3-none-any.whl size=281853642 sha256=3158c00cc578d584ed95a581344e1a9fca15e6476b10685e29ffb24d4d9fbe93\n",
            "  Stored in directory: /root/.cache/pip/wheels/9f/f5/07/7cd8017084dce4e93e84e92efd1e1d5334db05f2e83bcef74f\n",
            "Successfully built pyspark\n",
            "Installing collected packages: py4j, pyspark\n",
            "Successfully installed py4j-0.10.9.3 pyspark-3.2.1\n"
          ]
        }
      ]
    },
    {
      "cell_type": "code",
      "source": [
        "# Download the Postgres driver that will allow Spark to interact with Postgres.\n",
        "!wget https://jdbc.postgresql.org/download/postgresql-42.2.16.jar"
      ],
      "metadata": {
        "colab": {
          "base_uri": "https://localhost:8080/"
        },
        "id": "OhG9nG1hxRyV",
        "outputId": "bccead9b-3cb3-4fe5-de59-6711d19e0826"
      },
      "execution_count": 3,
      "outputs": [
        {
          "output_type": "stream",
          "name": "stdout",
          "text": [
            "--2022-02-21 05:33:55--  https://jdbc.postgresql.org/download/postgresql-42.2.16.jar\n",
            "Resolving jdbc.postgresql.org (jdbc.postgresql.org)... 72.32.157.228, 2001:4800:3e1:1::228\n",
            "Connecting to jdbc.postgresql.org (jdbc.postgresql.org)|72.32.157.228|:443... connected.\n",
            "HTTP request sent, awaiting response... 200 OK\n",
            "Length: 1002883 (979K) [application/java-archive]\n",
            "Saving to: ‘postgresql-42.2.16.jar’\n",
            "\n",
            "postgresql-42.2.16. 100%[===================>] 979.38K  --.-KB/s    in 0.08s   \n",
            "\n",
            "2022-02-21 05:33:55 (11.5 MB/s) - ‘postgresql-42.2.16.jar’ saved [1002883/1002883]\n",
            "\n"
          ]
        }
      ]
    },
    {
      "cell_type": "code",
      "source": [
        "from pyspark.sql import SparkSession\n",
        "spark = SparkSession.builder.appName(\"M16-Amazon-Challenge\").config(\"spark.driver.extraClassPath\",\"/content/postgresql-42.2.16.jar\").getOrCreate()"
      ],
      "metadata": {
        "id": "QqgNEOqZxXCW"
      },
      "execution_count": 6,
      "outputs": []
    },
    {
      "cell_type": "code",
      "source": [
        "from pyspark import SparkFiles\n",
        "url = \"https://s3.amazonaws.com/amazon-reviews-pds/tsv/amazon_reviews_us_Musical_Instruments_v1_00.tsv.gz\"\n",
        "spark.sparkContext.addFile(url)\n",
        "df = spark.read.option(\"encoding\", \"UTF-8\").csv(SparkFiles.get(\"amazon_reviews_us_Musical_Instruments_v1_00.tsv.gz\"), sep=\"\\t\", header=True, inferSchema=True)\n",
        "df.show()"
      ],
      "metadata": {
        "colab": {
          "base_uri": "https://localhost:8080/"
        },
        "id": "xGqzq9gqxcZ4",
        "outputId": "bf43e17a-1a77-4346-8498-d16fa4fd4acc"
      },
      "execution_count": 7,
      "outputs": [
        {
          "output_type": "stream",
          "name": "stdout",
          "text": [
            "+-----------+-----------+--------------+----------+--------------+--------------------+-------------------+-----------+-------------+-----------+----+-----------------+--------------------+--------------------+-----------+\n",
            "|marketplace|customer_id|     review_id|product_id|product_parent|       product_title|   product_category|star_rating|helpful_votes|total_votes|vine|verified_purchase|     review_headline|         review_body|review_date|\n",
            "+-----------+-----------+--------------+----------+--------------+--------------------+-------------------+-----------+-------------+-----------+----+-----------------+--------------------+--------------------+-----------+\n",
            "|         US|   45610553| RMDCHWD0Y5OZ9|B00HH62VB6|     618218723|AGPtek® 10 Isolat...|Musical Instruments|          3|            0|          1|   N|                N|         Three Stars|Works very good, ...| 2015-08-31|\n",
            "|         US|   14640079| RZSL0BALIYUNU|B003LRN53I|     986692292|Sennheiser HD203 ...|Musical Instruments|          5|            0|          0|   N|                Y|          Five Stars|Nice headphones a...| 2015-08-31|\n",
            "|         US|    6111003| RIZR67JKUDBI0|B0006VMBHI|     603261968|AudioQuest LP rec...|Musical Instruments|          3|            0|          1|   N|                Y|         Three Stars|removes dust. doe...| 2015-08-31|\n",
            "|         US|    1546619|R27HL570VNL85F|B002B55TRG|     575084461|Hohner Inc. 560BX...|Musical Instruments|          5|            0|          0|   N|                Y|I purchase these ...|I purchase these ...| 2015-08-31|\n",
            "|         US|   12222213|R34EBU9QDWJ1GD|B00N1YPXW2|     165236328|Blue Yeti USB Mic...|Musical Instruments|          5|            0|          0|   N|                Y|          Five Stars|This is an awesom...| 2015-08-31|\n",
            "|         US|   46018513|R1WCUI4Z1SIQEO|B001N4GRGS|     134151483|Middle Atlantic P...|Musical Instruments|          5|            0|          0|   N|                N|          Five Stars|Used to cool equi...| 2015-08-31|\n",
            "|         US|   10225065| RL5LNO26GAVJ1|B009PJRMHQ|     694166585|Kmise 1pc Pickgua...|Musical Instruments|          2|            3|          4|   N|                Y|Will not Fit Epip...|Note- Does not Fi...| 2015-08-31|\n",
            "|         US|    6356995|R3GYQ5W8JHP8SB|B00NKBDAZS|     446431775|Kealoha Concert U...|Musical Instruments|          5|            0|          0|   N|                Y|          Five Stars|Well built Ukulel...| 2015-08-31|\n",
            "|         US|   35297198|R30SHYQXGG5EYC|B006MIU7U2|     125871705|Halco 80000 - MR1...|Musical Instruments|          5|            0|          0|   N|                Y|Works fine. Hope ...|Had to replace a ...| 2015-08-31|\n",
            "|         US|   32139520|R14YLXA56NP51I|B000FIBD0I|     771888534|Gator GPTBLACK Pl...|Musical Instruments|          5|            1|          1|   N|                N|I upgraded the po...|I've owned multip...| 2015-08-31|\n",
            "|         US|   36060782|R1ZH0HSH38IOTZ|B0002E52GG|      68535945|Hetman 1 - Light ...|Musical Instruments|          5|            0|          0|   N|                Y|My son's favourit...|Consistent qualit...| 2015-08-31|\n",
            "|         US|    5301309|R3H53KLLC210XI|B00RZIH52G|     725541773|Dragonpad pop fil...|Musical Instruments|          4|            0|          0|   N|                Y|Great pop filter ...|by far the best p...| 2015-08-31|\n",
            "|         US|   37472935|R3OOR877NGA8JK|B001792BAU|      46570323|DharmaObjects Rel...|Musical Instruments|          3|            0|          0|   N|                Y|                  Ok|Beautiful set. On...| 2015-08-31|\n",
            "|         US|   33578270|R1BY7WKOZ3KMH0|B009GSKW1Y|     547963417|Musiclily SSS Pla...|Musical Instruments|          2|            0|          0|   N|                Y|           Two Stars|Bridge pickup was...| 2015-08-31|\n",
            "|         US|   22070226| RXP1TFSWE8EG9|B0002F4TKA|     436074323|Vic Firth America...|Musical Instruments|          5|            0|          0|   N|                Y|          Five Stars|Feels good and la...| 2015-08-31|\n",
            "|         US|   52862655|R3J44DPP12OTLJ|B00K17YFBW|      81933093|Guitar Stand for ...|Musical Instruments|          5|            0|          0|   N|                Y|Great stand... on...|I love the stand....| 2015-08-31|\n",
            "|         US|    4427243| RFOV69SK0T676|B00EQ24HJS|     669249276|Generic 3PLY Faux...|Musical Instruments|          5|            0|          0|   N|                Y|Looks great. You ...|On time. Looks gr...| 2015-08-31|\n",
            "|         US|   14108571|R2HUWDNW62FOL3|B00IBOYTUE|     749537231|Audio 2000 6525 3...|Musical Instruments|          1|            0|          0|   N|                Y|  Poor sound quality|I was hoping it w...| 2015-08-31|\n",
            "|         US|   27314089|R1KSU30XZGR452|B00FBRUSAE|     792472601|Sawtooth ST-AMP-1...|Musical Instruments|          5|            0|          0|   N|                Y|Perfect for the b...|Good sound for it...| 2015-08-31|\n",
            "|         US|   16735445|R2TZVLLTSHA07N|B0113D2QUO|     269114019|Upado Unlimited G...|Musical Instruments|          5|            1|          1|   N|                Y|It really is a mu...|Wow! I didn't exp...| 2015-08-31|\n",
            "+-----------+-----------+--------------+----------+--------------+--------------------+-------------------+-----------+-------------+-----------+----+-----------------+--------------------+--------------------+-----------+\n",
            "only showing top 20 rows\n",
            "\n"
          ]
        }
      ]
    },
    {
      "cell_type": "code",
      "source": [
        "# Filter instrument data frame on total_vote greater than or equal to 20\n",
        "totalvotes_df = df.filter(\"total_votes>=20\")\n",
        "totalvotes_df.show()"
      ],
      "metadata": {
        "colab": {
          "base_uri": "https://localhost:8080/"
        },
        "id": "qjvL_N35yEwa",
        "outputId": "259992cb-089e-46e4-e7e8-8af1df07fd80"
      },
      "execution_count": 8,
      "outputs": [
        {
          "output_type": "stream",
          "name": "stdout",
          "text": [
            "+-----------+-----------+--------------+----------+--------------+--------------------+-------------------+-----------+-------------+-----------+----+-----------------+--------------------+--------------------+-----------+\n",
            "|marketplace|customer_id|     review_id|product_id|product_parent|       product_title|   product_category|star_rating|helpful_votes|total_votes|vine|verified_purchase|     review_headline|         review_body|review_date|\n",
            "+-----------+-----------+--------------+----------+--------------+--------------------+-------------------+-----------+-------------+-----------+----+-----------------+--------------------+--------------------+-----------+\n",
            "|         US|   15365576|R2243Y3OD8U6KQ|B00W1RTVGO|     160618734|Supertech stage l...|Musical Instruments|          5|           47|         61|   N|                N|This fills a room...|I am always looki...| 2015-08-31|\n",
            "|         US|   28770559|R2TGT0CDTCAAHW|B00INJ7HBK|     157027184|Singing Machine I...|Musical Instruments|          5|           21|         23|   N|                Y|   excellent product|Kids love it! It'...| 2015-08-31|\n",
            "|         US|   35225823| RX4D22YSXEF4P|B009EK8PUY|     166820090|Akai Front Load C...|Musical Instruments|          1|           37|         38|   N|                Y|All the reviews t...|All the reviews t...| 2015-08-31|\n",
            "|         US|   24740219|R3FL2NTLFUSPTQ|B014K2S348|     865024902|AKG 2015 NEWEST M...|Musical Instruments|          5|           33|         37|   N|                N|Might need an Amp...|I picked these he...| 2015-08-30|\n",
            "|         US|   26124872|R3QTP3YNZXAPPF|B004ISK4E2|     269767230|Fender CD-60 All ...|Musical Instruments|          3|           23|         24|   N|                Y|Couldnt be happie...|Great value. Awes...| 2015-08-30|\n",
            "|         US|   16452718|R36V6V42VN5AS5|B00SCP7IB4|     160806469|Numark Mixtrack 3...|Musical Instruments|          5|           34|         37|   N|                Y|let me say that t...|First off, let me...| 2015-08-30|\n",
            "|         US|   40567300|R27LZWE27BJPOB|B0142OY3ZM|     201152025|WOWTOU RGB Stage ...|Musical Instruments|          5|           22|         23|   N|                N|    Neat desktop toy|I saw this item a...| 2015-08-30|\n",
            "|         US|   52695075|  RMRD6SMF2AUQ|B010W6WFEA|     592936032|Shure MV51 Digita...|Musical Instruments|          3|            4|         21|   N|                N|A bit short of th...|Almost Shure, alm...| 2015-08-30|\n",
            "|         US|   11587240| RMPCXKWX3T57Y|B000U0DU34|     875707506|Fulltone OCD Obse...|Musical Instruments|          1|            1|         73|   N|                N|so happy the fina...|Finally I can't w...| 2015-08-29|\n",
            "|         US|   49287335|R1P7GJ0IN2BRNH|B005FIFM14|       2563833|Pick Punch - The ...|Musical Instruments|          5|           37|         37|   N|                Y|  super fun and easy|Had it for about ...| 2015-08-29|\n",
            "|         US|   50984149|R2R6JPF9KOD2HJ|B008GXEFWC|     162279247|ddrum DD1 Complet...|Musical Instruments|          5|           19|         20|   N|                Y|   Super Drum Kit!!!|Awesome Kit With ...| 2015-08-29|\n",
            "|         US|   44703201|R3JM8Z4SP9N3H2|B00BG300DC|     310087706|PRS Exclusive Tob...|Musical Instruments|          1|            4|         23|   N|                N|Total Marketing Scam|This is a marketi...| 2015-08-29|\n",
            "|         US|   18517211|R2J0ZZGFXKM8KR|B00MZY6DXM|     498246743|Bakelite Guitar F...|Musical Instruments|          2|           21|         22|   N|                Y|NOT A SET OF NUT ...|NOT A SET OF NUT ...| 2015-08-28|\n",
            "|         US|   29380174|R238ZSG6TSUBNX|B0025VLQVE|     481754329|Dean Vendetta XMT...|Musical Instruments|          5|           27|         27|   N|                Y|          Amazing!!!|I can't believe p...| 2015-08-28|\n",
            "|         US|   37778551|R37WGVXA94D62S|B00MHTVIDU|     128700848|Rode iXY Recordin...|Musical Instruments|          2|            4|         20|   N|                Y|No it does not wo...|don't waste time ...| 2015-08-28|\n",
            "|         US|   47575748| RC6Y8GYIQZ8YU|B00HVLUR54|       9240469|Audio-Technica AT...|Musical Instruments|          3|           72|         85|   N|                Y|Good Sound, Medio...|Sound quality is ...| 2015-08-28|\n",
            "|         US|    1221512| RFL3TJED8C240|B00IZP4XR8|     386235968|Ibanez RG Series ...|Musical Instruments|          5|           13|         24|   N|                N|           It dj0nts|0/0<br />It dj0nt...| 2015-08-28|\n",
            "|         US|   51260912|R3D4P7A8Q1C70F|B00WU5OM5M|      18153107|LaluceNatz 18LED ...|Musical Instruments|          5|           22|         27|   N|                Y|Great product, es...|Ok, here is the d...| 2015-08-27|\n",
            "|         US|   40130155|R3PRNAQVQBB9M6|B00MUFJXTM|     500213118|TOTMC Legend of Z...|Musical Instruments|          1|           21|         30|   N|                Y|Product Not as Ad...|Terrible ocarina,...| 2015-08-27|\n",
            "|         US|    3430931|R2NTTIW5KBKLYG|B011I9AKYW|     686654129|WOWTOU LED Stage ...|Musical Instruments|          5|           19|         20|   N|                N|   Great Party Light|This is a great a...| 2015-08-27|\n",
            "+-----------+-----------+--------------+----------+--------------+--------------------+-------------------+-----------+-------------+-----------+----+-----------------+--------------------+--------------------+-----------+\n",
            "only showing top 20 rows\n",
            "\n"
          ]
        }
      ]
    },
    {
      "cell_type": "code",
      "source": [
        "helpful_50_df = totalvotes_df.filter(\"helpful_votes/total_votes>=.50\")\n",
        "helpful_50_df.show()"
      ],
      "metadata": {
        "colab": {
          "base_uri": "https://localhost:8080/"
        },
        "id": "TnDcUC7dyRZV",
        "outputId": "807e4c05-5c21-4ec1-a40a-64bb6597a5ae"
      },
      "execution_count": 9,
      "outputs": [
        {
          "output_type": "stream",
          "name": "stdout",
          "text": [
            "+-----------+-----------+--------------+----------+--------------+--------------------+-------------------+-----------+-------------+-----------+----+-----------------+--------------------+--------------------+-----------+\n",
            "|marketplace|customer_id|     review_id|product_id|product_parent|       product_title|   product_category|star_rating|helpful_votes|total_votes|vine|verified_purchase|     review_headline|         review_body|review_date|\n",
            "+-----------+-----------+--------------+----------+--------------+--------------------+-------------------+-----------+-------------+-----------+----+-----------------+--------------------+--------------------+-----------+\n",
            "|         US|   15365576|R2243Y3OD8U6KQ|B00W1RTVGO|     160618734|Supertech stage l...|Musical Instruments|          5|           47|         61|   N|                N|This fills a room...|I am always looki...| 2015-08-31|\n",
            "|         US|   28770559|R2TGT0CDTCAAHW|B00INJ7HBK|     157027184|Singing Machine I...|Musical Instruments|          5|           21|         23|   N|                Y|   excellent product|Kids love it! It'...| 2015-08-31|\n",
            "|         US|   35225823| RX4D22YSXEF4P|B009EK8PUY|     166820090|Akai Front Load C...|Musical Instruments|          1|           37|         38|   N|                Y|All the reviews t...|All the reviews t...| 2015-08-31|\n",
            "|         US|   24740219|R3FL2NTLFUSPTQ|B014K2S348|     865024902|AKG 2015 NEWEST M...|Musical Instruments|          5|           33|         37|   N|                N|Might need an Amp...|I picked these he...| 2015-08-30|\n",
            "|         US|   26124872|R3QTP3YNZXAPPF|B004ISK4E2|     269767230|Fender CD-60 All ...|Musical Instruments|          3|           23|         24|   N|                Y|Couldnt be happie...|Great value. Awes...| 2015-08-30|\n",
            "|         US|   16452718|R36V6V42VN5AS5|B00SCP7IB4|     160806469|Numark Mixtrack 3...|Musical Instruments|          5|           34|         37|   N|                Y|let me say that t...|First off, let me...| 2015-08-30|\n",
            "|         US|   40567300|R27LZWE27BJPOB|B0142OY3ZM|     201152025|WOWTOU RGB Stage ...|Musical Instruments|          5|           22|         23|   N|                N|    Neat desktop toy|I saw this item a...| 2015-08-30|\n",
            "|         US|   49287335|R1P7GJ0IN2BRNH|B005FIFM14|       2563833|Pick Punch - The ...|Musical Instruments|          5|           37|         37|   N|                Y|  super fun and easy|Had it for about ...| 2015-08-29|\n",
            "|         US|   50984149|R2R6JPF9KOD2HJ|B008GXEFWC|     162279247|ddrum DD1 Complet...|Musical Instruments|          5|           19|         20|   N|                Y|   Super Drum Kit!!!|Awesome Kit With ...| 2015-08-29|\n",
            "|         US|   18517211|R2J0ZZGFXKM8KR|B00MZY6DXM|     498246743|Bakelite Guitar F...|Musical Instruments|          2|           21|         22|   N|                Y|NOT A SET OF NUT ...|NOT A SET OF NUT ...| 2015-08-28|\n",
            "|         US|   29380174|R238ZSG6TSUBNX|B0025VLQVE|     481754329|Dean Vendetta XMT...|Musical Instruments|          5|           27|         27|   N|                Y|          Amazing!!!|I can't believe p...| 2015-08-28|\n",
            "|         US|   47575748| RC6Y8GYIQZ8YU|B00HVLUR54|       9240469|Audio-Technica AT...|Musical Instruments|          3|           72|         85|   N|                Y|Good Sound, Medio...|Sound quality is ...| 2015-08-28|\n",
            "|         US|    1221512| RFL3TJED8C240|B00IZP4XR8|     386235968|Ibanez RG Series ...|Musical Instruments|          5|           13|         24|   N|                N|           It dj0nts|0/0<br />It dj0nt...| 2015-08-28|\n",
            "|         US|   51260912|R3D4P7A8Q1C70F|B00WU5OM5M|      18153107|LaluceNatz 18LED ...|Musical Instruments|          5|           22|         27|   N|                Y|Great product, es...|Ok, here is the d...| 2015-08-27|\n",
            "|         US|   40130155|R3PRNAQVQBB9M6|B00MUFJXTM|     500213118|TOTMC Legend of Z...|Musical Instruments|          1|           21|         30|   N|                Y|Product Not as Ad...|Terrible ocarina,...| 2015-08-27|\n",
            "|         US|    3430931|R2NTTIW5KBKLYG|B011I9AKYW|     686654129|WOWTOU LED Stage ...|Musical Instruments|          5|           19|         20|   N|                N|   Great Party Light|This is a great a...| 2015-08-27|\n",
            "|         US|   23046787|R3JNDLZ3KACRLG|B00MZCES7W|     356038397|Casio Learn-To-Pl...|Musical Instruments|          5|           29|         33|   N|                N|Best Learning Key...|My father in law ...| 2015-08-27|\n",
            "|         US|   47324124|R1PVVYYY0Q1HZ0|B00IPWOEJI|     627374566|TMS Black Ebony W...|Musical Instruments|          5|           21|         21|   N|                Y|Appears to be goo...|Exactly what I wa...| 2015-08-27|\n",
            "|         US|   42689422|R1R9RU7JW0MFR2|B0124Y99PQ|     618027384|Casio CGP-700BK C...|Musical Instruments|          4|           20|         23|   Y|                N|Be prepared to be...|First off PLEASE ...| 2015-08-27|\n",
            "|         US|   29940086|R1G9N0CW2982PA|B00BHQXM8S|     122514984|             Casio_3|Musical Instruments|          5|           21|         24|   N|                Y|Perfect for what ...|Exactly what we n...| 2015-08-26|\n",
            "+-----------+-----------+--------------+----------+--------------+--------------------+-------------------+-----------+-------------+-----------+----+-----------------+--------------------+--------------------+-----------+\n",
            "only showing top 20 rows\n",
            "\n"
          ]
        }
      ]
    },
    {
      "cell_type": "code",
      "source": [
        "print(helpful_50_df.count())"
      ],
      "metadata": {
        "colab": {
          "base_uri": "https://localhost:8080/"
        },
        "id": "zpcx7QrEyWYY",
        "outputId": "901d2afe-d6d6-462e-b907-83d6052e9ce3"
      },
      "execution_count": 10,
      "outputs": [
        {
          "output_type": "stream",
          "name": "stdout",
          "text": [
            "14537\n"
          ]
        }
      ]
    },
    {
      "cell_type": "code",
      "source": [
        "vine_review_df = helpful_50_df.filter(helpful_50_df[\"vine\"] == \"Y\")\n",
        "vine_review_df.show()"
      ],
      "metadata": {
        "colab": {
          "base_uri": "https://localhost:8080/"
        },
        "id": "iEB16TXqyZ5j",
        "outputId": "24a6a88a-44d8-4fc7-933e-5a3c8a1b140d"
      },
      "execution_count": 11,
      "outputs": [
        {
          "output_type": "stream",
          "name": "stdout",
          "text": [
            "+-----------+-----------+--------------+----------+--------------+--------------------+-------------------+-----------+-------------+-----------+----+-----------------+--------------------+--------------------+-----------+\n",
            "|marketplace|customer_id|     review_id|product_id|product_parent|       product_title|   product_category|star_rating|helpful_votes|total_votes|vine|verified_purchase|     review_headline|         review_body|review_date|\n",
            "+-----------+-----------+--------------+----------+--------------+--------------------+-------------------+-----------+-------------+-----------+----+-----------------+--------------------+--------------------+-----------+\n",
            "|         US|   42689422|R1R9RU7JW0MFR2|B0124Y99PQ|     618027384|Casio CGP-700BK C...|Musical Instruments|          4|           20|         23|   Y|                N|Be prepared to be...|First off PLEASE ...| 2015-08-27|\n",
            "|         US|   29182364|R19EFYNN3W8Q07|B00ZU4G0ZK|     499223759|TC Electronic Pol...|Musical Instruments|          5|           26|         32|   Y|                N|         Great Tuner|I’ve been using a...| 2015-08-22|\n",
            "|         US|   19467797|R34DJ1R8AEU0SG|B00V66XWTI|     758752724|Audio-Technica AT...|Musical Instruments|          5|           29|         35|   Y|                N|Great mic, phenom...|[[VIDEOID:282d682...| 2015-07-28|\n",
            "|         US|   52081784|R25P5CXK5L9RHF|B0100RBPTC|     139750877|Casio Privia PX16...|Musical Instruments|          5|          146|        161|   Y|                N|Review: Casio Pri...|[[VIDEOID:7885869...| 2015-07-23|\n",
            "|         US|   17421494|R2E9VZB3I4LSN5|B0100RBPTC|     139750877|Casio Privia PX16...|Musical Instruments|          5|           55|         59|   Y|                N|The sound is magn...|The Casio Privia ...| 2015-07-13|\n",
            "|         US|   50273418| RKYLHZL7EPELX|B00V66XWTI|     758752724|Audio-Technica AT...|Musical Instruments|          4|           19|         25|   Y|                N|Quality sound acc...|[[VIDEOID:2e41e07...| 2015-06-17|\n",
            "|         US|   50027179|R1U13EKGQD3ZE6|B00MIXFBL0|     363629101|TASCAM DR-60DmkII...|Musical Instruments|          5|           22|         25|   Y|                N|            Powerful|[[VIDEOID:50615d5...| 2015-03-08|\n",
            "|         US|   50258811| RYW05F1MUEF01|B00NW1IZ5Q|     923510791|Doppler Labs Dubs...|Musical Instruments|          5|           87|        102|   Y|                N|High Fidelity Ear...|I tested these ea...| 2015-02-25|\n",
            "|         US|   28322689|R2SW4NXNO7HZJ5|B00MIXFBKG|      21180708|      Tascam DR-22WL|Musical Instruments|          4|           28|         33|   Y|                N|Excellent portabl...|The DR-22WL (2-ch...| 2015-01-27|\n",
            "|         US|   52880152|R2016NFLSUR97Y|B00MIXFBKG|      21180708|      Tascam DR-22WL|Musical Instruments|          2|           26|         37|   Y|                N|Wi-Fi Recorder wi...|When it came to t...| 2015-01-18|\n",
            "|         US|   51238346| RFCV9QXJ3D79X|B00MZCEJHQ|     930095666|Shure Portable Co...|Musical Instruments|          3|           20|         22|   Y|                N|Stylish Looks, So...|The bargain space...| 2014-11-21|\n",
            "|         US|   48204392|R36779ZAY4ZT0Y|B00JA8QD40|     348378287|JamStik: The Guit...|Musical Instruments|          3|           46|         50|   Y|                N|Guitar-Like - But...|I checked out the...| 2014-11-15|\n",
            "|         US|   53080186|R13PPTBWWV10Q6|B00MIXF2RS|     559231111|       Tascam US-2x2|Musical Instruments|          5|           19|         25|   Y|                N|Great for podcast...|[[VIDEOID:3e74561...| 2014-11-11|\n",
            "|         US|   49131768|R2A3FFNJTDUBMV|B00JAEDIP6|     624394217|Yamaha PSRE443 61...|Musical Instruments|          5|           20|         27|   Y|                N|Beginner friendly...|The PSRE445 61 ke...| 2014-09-22|\n",
            "|         US|   52736752|R3QQG4HUB214TM|B00JAEDIP6|     624394217|Yamaha PSRE443 61...|Musical Instruments|          5|          111|        128|   Y|                N|A versatile keybo...|The Yamaha PSRE44...| 2014-09-11|\n",
            "|         US|   31463400|R3J9OSJNJB7KGM|B00JAEDIP6|     624394217|Yamaha PSRE443 61...|Musical Instruments|          5|           70|         80|   Y|                N|Perfect way for t...|I was excited to ...| 2014-09-11|\n",
            "|         US|   27847324| RIMYDUAAFXY2U|B00L1LL7DQ|      27203332|D'Addario NS Micr...|Musical Instruments|          5|           22|         23|   Y|                N|D'Addario NS Micr...|This tuner is nic...| 2014-09-10|\n",
            "|         US|   35360512|R22CYBPLKWDK6F|B00J6XI15S|     477564165|Blue Microphones ...|Musical Instruments|          5|           47|         54|   Y|                N|Surprisingly good...|Blue is an intere...| 2014-08-07|\n",
            "|         US|   52825479|R1ETBDZ1LJ8CEL|B00J6XI15S|     477564165|Blue Microphones ...|Musical Instruments|          4|           28|         32|   Y|                N|Improves on the b...|&#34;Mikey&#34; h...| 2014-08-01|\n",
            "|         US|   20325834|R28T5ISQ8AA7E5|B00H02C9TG|     854858339|Apogee Portable S...|Musical Instruments|          5|           40|         42|   Y|                N|Solid build, soun...|I own the JAM as ...| 2014-07-28|\n",
            "+-----------+-----------+--------------+----------+--------------+--------------------+-------------------+-----------+-------------+-----------+----+-----------------+--------------------+--------------------+-----------+\n",
            "only showing top 20 rows\n",
            "\n"
          ]
        }
      ]
    },
    {
      "cell_type": "code",
      "source": [
        "novine_review_df = helpful_50_df.filter(helpful_50_df[\"vine\"] == \"N\")\n",
        "novine_review_df.show()"
      ],
      "metadata": {
        "colab": {
          "base_uri": "https://localhost:8080/"
        },
        "id": "c69a6FLUyeXB",
        "outputId": "0be6f0dd-611b-43db-bd03-da6ad2a4a7c5"
      },
      "execution_count": 12,
      "outputs": [
        {
          "output_type": "stream",
          "name": "stdout",
          "text": [
            "+-----------+-----------+--------------+----------+--------------+--------------------+-------------------+-----------+-------------+-----------+----+-----------------+--------------------+--------------------+-----------+\n",
            "|marketplace|customer_id|     review_id|product_id|product_parent|       product_title|   product_category|star_rating|helpful_votes|total_votes|vine|verified_purchase|     review_headline|         review_body|review_date|\n",
            "+-----------+-----------+--------------+----------+--------------+--------------------+-------------------+-----------+-------------+-----------+----+-----------------+--------------------+--------------------+-----------+\n",
            "|         US|   15365576|R2243Y3OD8U6KQ|B00W1RTVGO|     160618734|Supertech stage l...|Musical Instruments|          5|           47|         61|   N|                N|This fills a room...|I am always looki...| 2015-08-31|\n",
            "|         US|   28770559|R2TGT0CDTCAAHW|B00INJ7HBK|     157027184|Singing Machine I...|Musical Instruments|          5|           21|         23|   N|                Y|   excellent product|Kids love it! It'...| 2015-08-31|\n",
            "|         US|   35225823| RX4D22YSXEF4P|B009EK8PUY|     166820090|Akai Front Load C...|Musical Instruments|          1|           37|         38|   N|                Y|All the reviews t...|All the reviews t...| 2015-08-31|\n",
            "|         US|   24740219|R3FL2NTLFUSPTQ|B014K2S348|     865024902|AKG 2015 NEWEST M...|Musical Instruments|          5|           33|         37|   N|                N|Might need an Amp...|I picked these he...| 2015-08-30|\n",
            "|         US|   26124872|R3QTP3YNZXAPPF|B004ISK4E2|     269767230|Fender CD-60 All ...|Musical Instruments|          3|           23|         24|   N|                Y|Couldnt be happie...|Great value. Awes...| 2015-08-30|\n",
            "|         US|   16452718|R36V6V42VN5AS5|B00SCP7IB4|     160806469|Numark Mixtrack 3...|Musical Instruments|          5|           34|         37|   N|                Y|let me say that t...|First off, let me...| 2015-08-30|\n",
            "|         US|   40567300|R27LZWE27BJPOB|B0142OY3ZM|     201152025|WOWTOU RGB Stage ...|Musical Instruments|          5|           22|         23|   N|                N|    Neat desktop toy|I saw this item a...| 2015-08-30|\n",
            "|         US|   49287335|R1P7GJ0IN2BRNH|B005FIFM14|       2563833|Pick Punch - The ...|Musical Instruments|          5|           37|         37|   N|                Y|  super fun and easy|Had it for about ...| 2015-08-29|\n",
            "|         US|   50984149|R2R6JPF9KOD2HJ|B008GXEFWC|     162279247|ddrum DD1 Complet...|Musical Instruments|          5|           19|         20|   N|                Y|   Super Drum Kit!!!|Awesome Kit With ...| 2015-08-29|\n",
            "|         US|   18517211|R2J0ZZGFXKM8KR|B00MZY6DXM|     498246743|Bakelite Guitar F...|Musical Instruments|          2|           21|         22|   N|                Y|NOT A SET OF NUT ...|NOT A SET OF NUT ...| 2015-08-28|\n",
            "|         US|   29380174|R238ZSG6TSUBNX|B0025VLQVE|     481754329|Dean Vendetta XMT...|Musical Instruments|          5|           27|         27|   N|                Y|          Amazing!!!|I can't believe p...| 2015-08-28|\n",
            "|         US|   47575748| RC6Y8GYIQZ8YU|B00HVLUR54|       9240469|Audio-Technica AT...|Musical Instruments|          3|           72|         85|   N|                Y|Good Sound, Medio...|Sound quality is ...| 2015-08-28|\n",
            "|         US|    1221512| RFL3TJED8C240|B00IZP4XR8|     386235968|Ibanez RG Series ...|Musical Instruments|          5|           13|         24|   N|                N|           It dj0nts|0/0<br />It dj0nt...| 2015-08-28|\n",
            "|         US|   51260912|R3D4P7A8Q1C70F|B00WU5OM5M|      18153107|LaluceNatz 18LED ...|Musical Instruments|          5|           22|         27|   N|                Y|Great product, es...|Ok, here is the d...| 2015-08-27|\n",
            "|         US|   40130155|R3PRNAQVQBB9M6|B00MUFJXTM|     500213118|TOTMC Legend of Z...|Musical Instruments|          1|           21|         30|   N|                Y|Product Not as Ad...|Terrible ocarina,...| 2015-08-27|\n",
            "|         US|    3430931|R2NTTIW5KBKLYG|B011I9AKYW|     686654129|WOWTOU LED Stage ...|Musical Instruments|          5|           19|         20|   N|                N|   Great Party Light|This is a great a...| 2015-08-27|\n",
            "|         US|   23046787|R3JNDLZ3KACRLG|B00MZCES7W|     356038397|Casio Learn-To-Pl...|Musical Instruments|          5|           29|         33|   N|                N|Best Learning Key...|My father in law ...| 2015-08-27|\n",
            "|         US|   47324124|R1PVVYYY0Q1HZ0|B00IPWOEJI|     627374566|TMS Black Ebony W...|Musical Instruments|          5|           21|         21|   N|                Y|Appears to be goo...|Exactly what I wa...| 2015-08-27|\n",
            "|         US|   29940086|R1G9N0CW2982PA|B00BHQXM8S|     122514984|             Casio_3|Musical Instruments|          5|           21|         24|   N|                Y|Perfect for what ...|Exactly what we n...| 2015-08-26|\n",
            "|         US|   42339282|R2N8ZFHQBWHMDL|B0053CUHMG|     443018400|Epiphone Les Paul...|Musical Instruments|          2|           26|         28|   N|                Y|        Disappointed|Extremely disappo...| 2015-08-26|\n",
            "+-----------+-----------+--------------+----------+--------------+--------------------+-------------------+-----------+-------------+-----------+----+-----------------+--------------------+--------------------+-----------+\n",
            "only showing top 20 rows\n",
            "\n"
          ]
        }
      ]
    },
    {
      "cell_type": "code",
      "source": [
        "from pyspark.sql.functions import count\n",
        "# Total number of reviews for each dataframe from Step 3 and Step 4:\n",
        "vine_review_count = vine_review_df.count()\n",
        "print(\"Total Number of Reviews PAID and 'helpful': %f\" % vine_review_count)\n",
        "\n",
        "novine_review_count = novine_review_df.count()\n",
        "print(\"Total Number of Reviews NON-PAID and 'helpful': %f\" % novine_review_count)"
      ],
      "metadata": {
        "colab": {
          "base_uri": "https://localhost:8080/"
        },
        "id": "XdG9QSsMylLd",
        "outputId": "bb47c429-5d85-4576-9f25-668aaab28ea1"
      },
      "execution_count": 13,
      "outputs": [
        {
          "output_type": "stream",
          "name": "stdout",
          "text": [
            "Total Number of Reviews PAID and 'helpful': 60.000000\n",
            "Total Number of Reviews NON-PAID and 'helpful': 14477.000000\n"
          ]
        }
      ]
    },
    {
      "cell_type": "code",
      "source": [
        "# Number of 5-star Reviews for above Paid and Non-Paid dataframes\n",
        "star5_vine_df = vine_review_df.filter(novine_review_df[\"star_rating\"]==\"5\")\n",
        "print(\"Total Number of 5-star Reviews PAID and 'helpful': %f\" % star5_vine_df.count())\n",
        "\n",
        "\n",
        "star5_novine_df = novine_review_df.filter(novine_review_df[\"star_rating\"]==\"5\")\n",
        "print(\"Total Number of 5-star Reviews NON-PAID and 'helpful': %f\" % star5_novine_df.count())"
      ],
      "metadata": {
        "colab": {
          "base_uri": "https://localhost:8080/"
        },
        "id": "qSaD5BwQyqp4",
        "outputId": "c60ef579-7a95-44aa-9446-6af0689f8062"
      },
      "execution_count": 14,
      "outputs": [
        {
          "output_type": "stream",
          "name": "stdout",
          "text": [
            "Total Number of 5-star Reviews PAID and 'helpful': 34.000000\n",
            "Total Number of 5-star Reviews NON-PAID and 'helpful': 8212.000000\n"
          ]
        }
      ]
    },
    {
      "cell_type": "code",
      "source": [
        "# Percentage of 5-star Reviews for above Paid and Non-Paid dataframes\n",
        "star5_vine_pct = (star5_vine_df.count()/vine_review_count)\n",
        "print(\"Percent of 5-Star Instrument Reviews from PAID, 'helpful' dataset: %f\" % star5_vine_pct)\n",
        "\n",
        "star5_novine_pct = (star5_novine_df.count()/novine_review_count)\n",
        "print(\"Percent of 5-Star Instrument Reviews from NON-PAID, 'helpful' dataset: %f\" % star5_novine_pct)"
      ],
      "metadata": {
        "colab": {
          "base_uri": "https://localhost:8080/"
        },
        "id": "JhVoc5nhys4R",
        "outputId": "476e7718-3644-433a-fed1-47d650a0efd6"
      },
      "execution_count": 17,
      "outputs": [
        {
          "output_type": "stream",
          "name": "stdout",
          "text": [
            "Percent of 5-Star Instrument Reviews from PAID, 'helpful' dataset: 0.566667\n",
            "Percent of 5-Star Instrument Reviews from NON-PAID, 'helpful' dataset: 0.567245\n"
          ]
        }
      ]
    },
    {
      "cell_type": "code",
      "source": [
        "# Total number of ALL reviews\n",
        "total_reviews_count = df.count()\n",
        "print(\"Total Number of Instrument Reviews: %f\" % total_reviews_count)\n",
        "\n",
        "help_reviews_count = helpful_50_df.count()\n",
        "print(\"Total Number of 'Helpful' Instrument Reviews: %f\" % help_reviews_count)"
      ],
      "metadata": {
        "colab": {
          "base_uri": "https://localhost:8080/"
        },
        "id": "68GPcRlYyznu",
        "outputId": "39c6d8e6-720c-41a0-fda7-b1cf8d2ac66a"
      },
      "execution_count": 18,
      "outputs": [
        {
          "output_type": "stream",
          "name": "stdout",
          "text": [
            "Total Number of Instrument Reviews: 904765.000000\n",
            "Total Number of 'Helpful' Instrument Reviews: 14537.000000\n"
          ]
        }
      ]
    },
    {
      "cell_type": "code",
      "source": [
        "#Total number of ALL 5-star reviews\n",
        "star5_df = df.filter(df[\"star_rating\"] == '5')\n",
        "star5_df.show()\n",
        "\n",
        "star5_count = star5_df.count()\n",
        "print(\"Total Number of 5-Star Instrument Reviews: %f\" % star5_count)"
      ],
      "metadata": {
        "colab": {
          "base_uri": "https://localhost:8080/"
        },
        "id": "Ebw5gO_GzB2H",
        "outputId": "268560d6-8662-49df-bcb5-a8ff7b2b63a4"
      },
      "execution_count": 19,
      "outputs": [
        {
          "output_type": "stream",
          "name": "stdout",
          "text": [
            "+-----------+-----------+--------------+----------+--------------+--------------------+-------------------+-----------+-------------+-----------+----+-----------------+--------------------+--------------------+-----------+\n",
            "|marketplace|customer_id|     review_id|product_id|product_parent|       product_title|   product_category|star_rating|helpful_votes|total_votes|vine|verified_purchase|     review_headline|         review_body|review_date|\n",
            "+-----------+-----------+--------------+----------+--------------+--------------------+-------------------+-----------+-------------+-----------+----+-----------------+--------------------+--------------------+-----------+\n",
            "|         US|   14640079| RZSL0BALIYUNU|B003LRN53I|     986692292|Sennheiser HD203 ...|Musical Instruments|          5|            0|          0|   N|                Y|          Five Stars|Nice headphones a...| 2015-08-31|\n",
            "|         US|    1546619|R27HL570VNL85F|B002B55TRG|     575084461|Hohner Inc. 560BX...|Musical Instruments|          5|            0|          0|   N|                Y|I purchase these ...|I purchase these ...| 2015-08-31|\n",
            "|         US|   12222213|R34EBU9QDWJ1GD|B00N1YPXW2|     165236328|Blue Yeti USB Mic...|Musical Instruments|          5|            0|          0|   N|                Y|          Five Stars|This is an awesom...| 2015-08-31|\n",
            "|         US|   46018513|R1WCUI4Z1SIQEO|B001N4GRGS|     134151483|Middle Atlantic P...|Musical Instruments|          5|            0|          0|   N|                N|          Five Stars|Used to cool equi...| 2015-08-31|\n",
            "|         US|    6356995|R3GYQ5W8JHP8SB|B00NKBDAZS|     446431775|Kealoha Concert U...|Musical Instruments|          5|            0|          0|   N|                Y|          Five Stars|Well built Ukulel...| 2015-08-31|\n",
            "|         US|   35297198|R30SHYQXGG5EYC|B006MIU7U2|     125871705|Halco 80000 - MR1...|Musical Instruments|          5|            0|          0|   N|                Y|Works fine. Hope ...|Had to replace a ...| 2015-08-31|\n",
            "|         US|   32139520|R14YLXA56NP51I|B000FIBD0I|     771888534|Gator GPTBLACK Pl...|Musical Instruments|          5|            1|          1|   N|                N|I upgraded the po...|I've owned multip...| 2015-08-31|\n",
            "|         US|   36060782|R1ZH0HSH38IOTZ|B0002E52GG|      68535945|Hetman 1 - Light ...|Musical Instruments|          5|            0|          0|   N|                Y|My son's favourit...|Consistent qualit...| 2015-08-31|\n",
            "|         US|   22070226| RXP1TFSWE8EG9|B0002F4TKA|     436074323|Vic Firth America...|Musical Instruments|          5|            0|          0|   N|                Y|          Five Stars|Feels good and la...| 2015-08-31|\n",
            "|         US|   52862655|R3J44DPP12OTLJ|B00K17YFBW|      81933093|Guitar Stand for ...|Musical Instruments|          5|            0|          0|   N|                Y|Great stand... on...|I love the stand....| 2015-08-31|\n",
            "|         US|    4427243| RFOV69SK0T676|B00EQ24HJS|     669249276|Generic 3PLY Faux...|Musical Instruments|          5|            0|          0|   N|                Y|Looks great. You ...|On time. Looks gr...| 2015-08-31|\n",
            "|         US|   27314089|R1KSU30XZGR452|B00FBRUSAE|     792472601|Sawtooth ST-AMP-1...|Musical Instruments|          5|            0|          0|   N|                Y|Perfect for the b...|Good sound for it...| 2015-08-31|\n",
            "|         US|   16735445|R2TZVLLTSHA07N|B0113D2QUO|     269114019|Upado Unlimited G...|Musical Instruments|          5|            1|          1|   N|                Y|It really is a mu...|Wow! I didn't exp...| 2015-08-31|\n",
            "|         US|   27253061|R3KZ28CSDS9MGN|B00923H7MA|     224290640|Korg Instrument T...|Musical Instruments|          5|            0|          0|   N|                Y|          Five Stars|Great product, fa...| 2015-08-31|\n",
            "|         US|   48885952|R2EFSVA4ZDWLN4|B00CPFA0TE|     567273591|DiMMYS (Tinted & ...|Musical Instruments|          5|            2|          2|   N|                Y|Perfect for what ...|I needed to dim t...| 2015-08-31|\n",
            "|         US|   10281700|R1EPGPK802HBSK|B004GH8QTA|     479095620|Meinl Standard Ca...|Musical Instruments|          5|            0|          0|   N|                Y|           good fit.|Fits great just a...| 2015-08-31|\n",
            "|         US|   35677607| RJIPC1X7LJ1RF|B003BLOSDU|     190608665|SKB Acoustic Guit...|Musical Instruments|          5|            0|          0|   N|                Y|perfect for throw...|Exactly what I ne...| 2015-08-31|\n",
            "|         US|   48351301| RXFHC5IFO5BET|B004QJREXM|     537707787|Audio-Technica AT...|Musical Instruments|          5|            0|          0|   N|                Y|   Why Read? Buy it!|For the price- wa...| 2015-08-31|\n",
            "|         US|   15791508|R1PSW5Q2ZI7JPR|B00HSUFBT0|     157365090|Woodi Soprano Rec...|Musical Instruments|          5|            0|          0|   N|                Y|      Woodi recorder|Nice soprano for ...| 2015-08-31|\n",
            "|         US|   13341038| RI6D52OHNYO87|B00282RE8O|     957368930|Rhythm Band RB213...|Musical Instruments|          5|            0|          0|   N|                Y|          Five Stars|Great little set ...| 2015-08-31|\n",
            "+-----------+-----------+--------------+----------+--------------+--------------------+-------------------+-----------+-------------+-----------+----+-----------------+--------------------+--------------------+-----------+\n",
            "only showing top 20 rows\n",
            "\n",
            "Total Number of 5-Star Instrument Reviews: 572916.000000\n"
          ]
        }
      ]
    },
    {
      "cell_type": "code",
      "source": [
        "#Total number of 5-star HELPFUL reviews\n",
        "star5_help_df = helpful_50_df.filter(helpful_50_df[\"star_rating\"] == '5')\n",
        "star5_help_df.show()\n",
        "\n",
        "star5_help_count = star5_help_df.count()\n",
        "print(\"Total Number of 5-Star 'Helpful' Instrument Reviews: %f\" % star5_help_count)"
      ],
      "metadata": {
        "colab": {
          "base_uri": "https://localhost:8080/"
        },
        "id": "R0dT2kOizHL3",
        "outputId": "bc37490b-51ee-4502-c83a-dd6dbc1f3b5c"
      },
      "execution_count": 20,
      "outputs": [
        {
          "output_type": "stream",
          "name": "stdout",
          "text": [
            "+-----------+-----------+--------------+----------+--------------+--------------------+-------------------+-----------+-------------+-----------+----+-----------------+--------------------+--------------------+-----------+\n",
            "|marketplace|customer_id|     review_id|product_id|product_parent|       product_title|   product_category|star_rating|helpful_votes|total_votes|vine|verified_purchase|     review_headline|         review_body|review_date|\n",
            "+-----------+-----------+--------------+----------+--------------+--------------------+-------------------+-----------+-------------+-----------+----+-----------------+--------------------+--------------------+-----------+\n",
            "|         US|   15365576|R2243Y3OD8U6KQ|B00W1RTVGO|     160618734|Supertech stage l...|Musical Instruments|          5|           47|         61|   N|                N|This fills a room...|I am always looki...| 2015-08-31|\n",
            "|         US|   28770559|R2TGT0CDTCAAHW|B00INJ7HBK|     157027184|Singing Machine I...|Musical Instruments|          5|           21|         23|   N|                Y|   excellent product|Kids love it! It'...| 2015-08-31|\n",
            "|         US|   24740219|R3FL2NTLFUSPTQ|B014K2S348|     865024902|AKG 2015 NEWEST M...|Musical Instruments|          5|           33|         37|   N|                N|Might need an Amp...|I picked these he...| 2015-08-30|\n",
            "|         US|   16452718|R36V6V42VN5AS5|B00SCP7IB4|     160806469|Numark Mixtrack 3...|Musical Instruments|          5|           34|         37|   N|                Y|let me say that t...|First off, let me...| 2015-08-30|\n",
            "|         US|   40567300|R27LZWE27BJPOB|B0142OY3ZM|     201152025|WOWTOU RGB Stage ...|Musical Instruments|          5|           22|         23|   N|                N|    Neat desktop toy|I saw this item a...| 2015-08-30|\n",
            "|         US|   49287335|R1P7GJ0IN2BRNH|B005FIFM14|       2563833|Pick Punch - The ...|Musical Instruments|          5|           37|         37|   N|                Y|  super fun and easy|Had it for about ...| 2015-08-29|\n",
            "|         US|   50984149|R2R6JPF9KOD2HJ|B008GXEFWC|     162279247|ddrum DD1 Complet...|Musical Instruments|          5|           19|         20|   N|                Y|   Super Drum Kit!!!|Awesome Kit With ...| 2015-08-29|\n",
            "|         US|   29380174|R238ZSG6TSUBNX|B0025VLQVE|     481754329|Dean Vendetta XMT...|Musical Instruments|          5|           27|         27|   N|                Y|          Amazing!!!|I can't believe p...| 2015-08-28|\n",
            "|         US|    1221512| RFL3TJED8C240|B00IZP4XR8|     386235968|Ibanez RG Series ...|Musical Instruments|          5|           13|         24|   N|                N|           It dj0nts|0/0<br />It dj0nt...| 2015-08-28|\n",
            "|         US|   51260912|R3D4P7A8Q1C70F|B00WU5OM5M|      18153107|LaluceNatz 18LED ...|Musical Instruments|          5|           22|         27|   N|                Y|Great product, es...|Ok, here is the d...| 2015-08-27|\n",
            "|         US|    3430931|R2NTTIW5KBKLYG|B011I9AKYW|     686654129|WOWTOU LED Stage ...|Musical Instruments|          5|           19|         20|   N|                N|   Great Party Light|This is a great a...| 2015-08-27|\n",
            "|         US|   23046787|R3JNDLZ3KACRLG|B00MZCES7W|     356038397|Casio Learn-To-Pl...|Musical Instruments|          5|           29|         33|   N|                N|Best Learning Key...|My father in law ...| 2015-08-27|\n",
            "|         US|   47324124|R1PVVYYY0Q1HZ0|B00IPWOEJI|     627374566|TMS Black Ebony W...|Musical Instruments|          5|           21|         21|   N|                Y|Appears to be goo...|Exactly what I wa...| 2015-08-27|\n",
            "|         US|   29940086|R1G9N0CW2982PA|B00BHQXM8S|     122514984|             Casio_3|Musical Instruments|          5|           21|         24|   N|                Y|Perfect for what ...|Exactly what we n...| 2015-08-26|\n",
            "|         US|   39502067|R2GW9A2O1PA3Z7|B00SNBCBGE|     170085695|ION Audio Tailgat...|Musical Instruments|          5|          387|        404|   N|                Y|BOOM shake the room!|This thing is won...| 2015-08-26|\n",
            "|         US|   48646734|R2YYNS9L1J2365|B00XVJF7ZU|     670399121|1byone Belt-Drive...|Musical Instruments|          5|           24|         25|   N|                N|It may be the bes...|FULL VIDEO REVIEW...| 2015-08-24|\n",
            "|         US|   13463270|R2OYYMSBKNH7A0|B006DIA77E|     233642990|Blue Microphones ...|Musical Instruments|          5|           42|         51|   N|                Y|our show is GNS (...|we broadcast on B...| 2015-08-24|\n",
            "|         US|   44938339|R2RIP03ZYSVVRD|B00008B5DU|     800263729|Audio-Technica AT...|Musical Instruments|          5|          110|        112|   N|                Y|About as good a b...|I had been lookin...| 2015-08-24|\n",
            "|         US|     116667| RRTTR0MCZFXV0|B00VHKMK64|      57787460|midiplus AKM320 m...|Musical Instruments|          5|           26|         31|   N|                Y|but i was amazed ...|This was my first...| 2015-08-24|\n",
            "|         US|   32038204|R2DAAU19U3VDDD|B00WWFFEIO|     461664966|        HiFi Mini HD|Musical Instruments|          5|           22|         24|   N|                Y|Very Pleased with...|[[VIDEOID:15291d5...| 2015-08-23|\n",
            "+-----------+-----------+--------------+----------+--------------+--------------------+-------------------+-----------+-------------+-----------+----+-----------------+--------------------+--------------------+-----------+\n",
            "only showing top 20 rows\n",
            "\n",
            "Total Number of 5-Star 'Helpful' Instrument Reviews: 8246.000000\n"
          ]
        }
      ]
    },
    {
      "cell_type": "code",
      "source": [
        "# Percentage of ALL 5-star reviews paid vs non-paid \n",
        "# 5-star Paid reviews \n",
        "vine_star5_all_df = star5_df.filter(star5_df[\"vine\"] == \"Y\")\n",
        "vine_star5_all_count = vine_star5_all_df.count()\n",
        "\n",
        "vine_star5_all_pct = (vine_star5_all_count/star5_count)\n",
        "print(\"Number of 5-Star Instrument Reviews PAID: %f\" % vine_star5_all_count)\n",
        "print(\"Percent of 5-Star Instrument Reviews PAID: %f\" % vine_star5_all_pct)\n",
        " \n",
        "#5-star Non-Paid reviews\n",
        "novine_star5_all_df = star5_df.filter(star5_df[\"vine\"] == \"N\")\n",
        "novine_star5_all_count = novine_star5_all_df.count()\n",
        "\n",
        "novine_star5_all_pct = novine_star5_all_count/star5_count\n",
        "print(\"Number of 5-Star Instrument Reviews NON-PAID: %f\" % novine_star5_all_count)\n",
        "print(\"Percent of 5-Star Instrument Reviews NON-PAID: %f\" % novine_star5_all_pct)"
      ],
      "metadata": {
        "colab": {
          "base_uri": "https://localhost:8080/"
        },
        "id": "lLSOtbFMzM7T",
        "outputId": "353dc474-235d-4803-adfd-68b8b4de86fb"
      },
      "execution_count": 21,
      "outputs": [
        {
          "output_type": "stream",
          "name": "stdout",
          "text": [
            "Number of 5-Star Instrument Reviews PAID: 1290.000000\n",
            "Percent of 5-Star Instrument Reviews PAID: 0.002252\n",
            "Number of 5-Star Instrument Reviews NON-PAID: 571626.000000\n",
            "Percent of 5-Star Instrument Reviews NON-PAID: 0.997748\n"
          ]
        }
      ]
    },
    {
      "cell_type": "code",
      "source": [
        "# Percentage of HELPFUL 5-star reviews paid vs non-paid (% of 5 star reviews in Step 3 dataframe) \n",
        "# 5-star Paid \"helpful\" reviews \n",
        "vine_star5_help_df = star5_help_df.filter(star5_help_df[\"vine\"] == \"Y\")\n",
        "vine_star5_help_count = vine_star5_help_df.count()\n",
        "\n",
        "vine_star5_help_pct = (vine_star5_help_count/star5_help_count)\n",
        "print(\"Number of 5-Star, 'Helpful' Instrument Reviews PAID: %f\" % vine_star5_help_count)\n",
        "print(\"Percent of 5-Star,'Helpful'Instrument Reviews PAID: %f\" % vine_star5_help_pct)\n",
        " \n",
        "#5-star Non-Paid \"helpful\" reviews\n",
        "novine_star5_help_df = star5_help_df.filter(star5_help_df[\"vine\"] == \"N\")\n",
        "novine_star5_help_count = novine_star5_help_df.count()\n",
        "\n",
        "novine_star5_help_pct = novine_star5_help_count/star5_help_count\n",
        "print(\"Number of 5-Star, 'Helpful' Instrument Reviews NON-PAID: %f\" % novine_star5_help_count)\n",
        "print(\"Percent of 5-Star,'Helpful'Instrument Reviews NON-PAID: %f\" % novine_star5_help_pct)"
      ],
      "metadata": {
        "colab": {
          "base_uri": "https://localhost:8080/"
        },
        "id": "QzhyvM7GzYfH",
        "outputId": "9dbf8490-7227-4d24-ddd3-468b72ef7a53"
      },
      "execution_count": 22,
      "outputs": [
        {
          "output_type": "stream",
          "name": "stdout",
          "text": [
            "Number of 5-Star, 'Helpful' Instrument Reviews PAID: 34.000000\n",
            "Percent of 5-Star,'Helpful'Instrument Reviews PAID: 0.004123\n",
            "Number of 5-Star, 'Helpful' Instrument Reviews NON-PAID: 8212.000000\n",
            "Percent of 5-Star,'Helpful'Instrument Reviews NON-PAID: 0.995877\n"
          ]
        }
      ]
    },
    {
      "cell_type": "code",
      "source": [
        "#Percent of Vine vs non-Vine all reviews\n",
        "vine_all_df = df.filter(df[\"vine\"] == \"Y\")\n",
        "novine_all_df = df.filter(df[\"vine\"] == \"N\")\n",
        "vine_pct_all = (vine_all_df.count()/df.count())\n",
        "novine_pct_all = (novine_all_df.count()/df.count())\n",
        "\n",
        "\n",
        "print(df.count())\n",
        "print(vine_all_df.count())\n",
        "print(novine_all_df.count())\n",
        "print(vine_pct_all)\n",
        "print(novine_pct_all)"
      ],
      "metadata": {
        "colab": {
          "base_uri": "https://localhost:8080/"
        },
        "id": "yyl0PNkGzmZd",
        "outputId": "2da577c2-1367-454c-a8bb-ff40570f07fe"
      },
      "execution_count": 23,
      "outputs": [
        {
          "output_type": "stream",
          "name": "stdout",
          "text": [
            "904765\n",
            "2287\n",
            "902476\n",
            "0.002527728194614071\n",
            "0.9974700612866324\n"
          ]
        }
      ]
    },
    {
      "cell_type": "code",
      "source": [
        "# Percent of All Vine that is 5-Star\n",
        "vine_all_star5_df = vine_all_df.filter(vine_all_df[\"star_rating\"] == '5')\n",
        "vine_all_star_df = vine_all_df.filter(vine_all_df[\"star_rating\"] != '5')\n",
        "\n",
        "novine_all_star5_df = novine_all_df.filter(novine_all_df[\"star_rating\"] == '5')\n",
        "novine_all_star_df = novine_all_df.filter(novine_all_df[\"star_rating\"] != '5')\n",
        "\n",
        "vine_pct_star5_all = (vine_all_star5_df.count()/vine_all_df.count())\n",
        "novine_pct_star5_all = (novine_all_star5_df.count()/novine_all_df.count())\n",
        "\n",
        "print(vine_all_star5_df.count())\n",
        "print(vine_all_star_df.count())\n",
        "\n",
        "print(novine_all_star5_df.count())\n",
        "print(novine_all_star_df.count())\n",
        "\n",
        "print(vine_pct_star5_all)\n",
        "print(novine_pct_star5_all)"
      ],
      "metadata": {
        "colab": {
          "base_uri": "https://localhost:8080/"
        },
        "id": "qebEXCOMz-ok",
        "outputId": "5d800fba-ccd2-45d4-afa9-f32dda60826a"
      },
      "execution_count": 24,
      "outputs": [
        {
          "output_type": "stream",
          "name": "stdout",
          "text": [
            "1290\n",
            "997\n",
            "571626\n",
            "330850\n",
            "0.5640577175338872\n",
            "0.6333974532286731\n"
          ]
        }
      ]
    },
    {
      "cell_type": "code",
      "source": [
        "# Pull out all Vine reviewed products\n",
        "vine_prod_df = vine_all_df.select(vine_all_df[\"product_id\"]).dropDuplicates()\n",
        "vine_prod_df.show()\n",
        "vine_prod_df.count()"
      ],
      "metadata": {
        "colab": {
          "base_uri": "https://localhost:8080/"
        },
        "id": "9YlKZUN0z4vS",
        "outputId": "843d89ce-bcce-481b-8395-40abec1a920e"
      },
      "execution_count": 25,
      "outputs": [
        {
          "output_type": "stream",
          "name": "stdout",
          "text": [
            "+----------+\n",
            "|product_id|\n",
            "+----------+\n",
            "|B00DJL8V9E|\n",
            "|B00L1LQ06A|\n",
            "|B00K7VOJK4|\n",
            "|B001R747SG|\n",
            "|B0077AMRWU|\n",
            "|B003LQSKR0|\n",
            "|B0096L2DLI|\n",
            "|B00JAEDIP6|\n",
            "|B00SLHWZZM|\n",
            "|B00EB3UPX4|\n",
            "|B00NIS8IZ0|\n",
            "|B00H02C9TG|\n",
            "|B0002F7K7Y|\n",
            "|B00SFMMQQ6|\n",
            "|B000HQ89P0|\n",
            "|B00VUU6JL8|\n",
            "|B00FBCCXE8|\n",
            "|B00IMHG2SC|\n",
            "|B0077AMSNI|\n",
            "|B00AQBT52W|\n",
            "+----------+\n",
            "only showing top 20 rows\n",
            "\n"
          ]
        },
        {
          "output_type": "execute_result",
          "data": {
            "text/plain": [
              "207"
            ]
          },
          "metadata": {},
          "execution_count": 25
        }
      ]
    }
  ]
}